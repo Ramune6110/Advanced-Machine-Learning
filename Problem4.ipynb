{
 "cells": [
  {
   "cell_type": "code",
   "execution_count": 33,
   "metadata": {},
   "outputs": [
    {
     "data": {
      "image/png": "[encoded data removed]",
      "text/plain": [
       "<Figure size 432x288 with 1 Axes>"
      ]
     },
     "metadata": {
      "needs_background": "light"
     },
     "output_type": "display_data"
    }
   ],
   "source": [
    "# requirement\n",
    "import numpy as np\n",
    "import matplotlib.pyplot as plt\n",
    "import cvxpy as cv\n",
    "import itertools\n",
    "\n",
    "class Hinge_loss_function:\n",
    "    def __init__(self):\n",
    "        self.n = 200\n",
    "        self.lam = 0.01\n",
    "        self.x = 3 * (np.random.randn(self.n, 4) - 0.5)\n",
    "        self.y = (2 * self.x[:,0] - 1 * self.x[:,1] + 0.5 + 0.5 * np.random.randn(self.n, 1)) > 0 \n",
    "        self.y = 2 * self.y - 1\n",
    "        self.w = np.arange(-3, 3, 0.002)\n",
    "        self.hingelss = np.zeros(len(self.w))\n",
    "    \n",
    "    def main(self):\n",
    "        for i in range (len(self.w)):\n",
    "            reg         = lam * self.w[i]\n",
    "            ywx         = self.y * self.w[i] * self.x[:, 0] + self.x[:, 1]\n",
    "            self.hingelss[i] = 1.0 / self.n * np.sum(np.maximum(np.zeros(len(self.y)), 1 - ywx)) + reg\n",
    "            \n",
    "    def DrowGraph(self):\n",
    "        plt.plot(self.w, self.hingelss, label='hinge loss')\n",
    "        plt.legend()\n",
    "        plt.xlabel('w1hat')\n",
    "        plt.ylabel('loss')\n",
    "        \n",
    "hlf = Hinge_loss_function()\n",
    "hlf.main()\n",
    "hlf.DrowGraph()"
   ]
  },
  {
   "cell_type": "code",
   "execution_count": 46,
   "metadata": {},
   "outputs": [
    {
     "ename": "AttributeError",
     "evalue": "'numpy.ndarray' object has no attribute 'parameters'",
     "output_type": "error",
     "traceback": [
      "\u001b[0;31m---------------------------------------------------------------------------\u001b[0m",
      "\u001b[0;31mAttributeError\u001b[0m                            Traceback (most recent call last)",
      "\u001b[0;32m<ipython-input-46-ffa356c7fdc9>\u001b[0m in \u001b[0;36m<module>\u001b[0;34m\u001b[0m\n\u001b[1;32m     66\u001b[0m \u001b[0mhlf\u001b[0m \u001b[0;34m=\u001b[0m \u001b[0mHinge_loss_function\u001b[0m\u001b[0;34m(\u001b[0m\u001b[0;34m)\u001b[0m\u001b[0;34m\u001b[0m\u001b[0;34m\u001b[0m\u001b[0m\n\u001b[1;32m     67\u001b[0m \u001b[0mhlf\u001b[0m\u001b[0;34m.\u001b[0m\u001b[0mcalc_eval_fun\u001b[0m\u001b[0;34m(\u001b[0m\u001b[0;34m)\u001b[0m\u001b[0;34m\u001b[0m\u001b[0;34m\u001b[0m\u001b[0m\n\u001b[0;32m---> 68\u001b[0;31m \u001b[0mhlf\u001b[0m\u001b[0;34m.\u001b[0m\u001b[0mmain\u001b[0m\u001b[0;34m(\u001b[0m\u001b[0;34m)\u001b[0m\u001b[0;34m\u001b[0m\u001b[0;34m\u001b[0m\u001b[0m\n\u001b[0m\u001b[1;32m     69\u001b[0m \u001b[0mhlf\u001b[0m\u001b[0;34m.\u001b[0m\u001b[0mDrowGraph\u001b[0m\u001b[0;34m(\u001b[0m\u001b[0;34m)\u001b[0m\u001b[0;34m\u001b[0m\u001b[0;34m\u001b[0m\u001b[0m\n",
      "\u001b[0;32m<ipython-input-46-ffa356c7fdc9>\u001b[0m in \u001b[0;36mmain\u001b[0;34m(self)\u001b[0m\n\u001b[1;32m     51\u001b[0m             \u001b[0mconstraints\u001b[0m \u001b[0;34m=\u001b[0m \u001b[0;34m[\u001b[0m\u001b[0;36m1\u001b[0m \u001b[0;34m-\u001b[0m \u001b[0mywx\u001b[0m \u001b[0;34m<=\u001b[0m \u001b[0;36m0\u001b[0m\u001b[0;34m]\u001b[0m\u001b[0;34m\u001b[0m\u001b[0;34m\u001b[0m\u001b[0m\n\u001b[1;32m     52\u001b[0m             \u001b[0mprob\u001b[0m \u001b[0;34m=\u001b[0m \u001b[0mcv\u001b[0m\u001b[0;34m.\u001b[0m\u001b[0mProblem\u001b[0m\u001b[0;34m(\u001b[0m\u001b[0mobjective\u001b[0m\u001b[0;34m,\u001b[0m \u001b[0mconstraints\u001b[0m\u001b[0;34m)\u001b[0m\u001b[0;34m\u001b[0m\u001b[0;34m\u001b[0m\u001b[0m\n\u001b[0;32m---> 53\u001b[0;31m             \u001b[0mresult\u001b[0m \u001b[0;34m=\u001b[0m \u001b[0mprob\u001b[0m\u001b[0;34m.\u001b[0m\u001b[0msolve\u001b[0m\u001b[0;34m(\u001b[0m\u001b[0;34m)\u001b[0m\u001b[0;34m\u001b[0m\u001b[0;34m\u001b[0m\u001b[0m\n\u001b[0m\u001b[1;32m     54\u001b[0m \u001b[0;34m\u001b[0m\u001b[0m\n\u001b[1;32m     55\u001b[0m             \u001b[0;31m# 勾配\u001b[0m\u001b[0;34m\u001b[0m\u001b[0;34m\u001b[0m\u001b[0;34m\u001b[0m\u001b[0m\n",
      "\u001b[0;32m~/.local/lib/python3.6/site-packages/cvxpy/problems/problem.py\u001b[0m in \u001b[0;36msolve\u001b[0;34m(self, *args, **kwargs)\u001b[0m\n\u001b[1;32m    393\u001b[0m         \u001b[0;32melse\u001b[0m\u001b[0;34m:\u001b[0m\u001b[0;34m\u001b[0m\u001b[0;34m\u001b[0m\u001b[0m\n\u001b[1;32m    394\u001b[0m             \u001b[0msolve_func\u001b[0m \u001b[0;34m=\u001b[0m \u001b[0mProblem\u001b[0m\u001b[0;34m.\u001b[0m\u001b[0m_solve\u001b[0m\u001b[0;34m\u001b[0m\u001b[0;34m\u001b[0m\u001b[0m\n\u001b[0;32m--> 395\u001b[0;31m         \u001b[0;32mreturn\u001b[0m \u001b[0msolve_func\u001b[0m\u001b[0;34m(\u001b[0m\u001b[0mself\u001b[0m\u001b[0;34m,\u001b[0m \u001b[0;34m*\u001b[0m\u001b[0margs\u001b[0m\u001b[0;34m,\u001b[0m \u001b[0;34m**\u001b[0m\u001b[0mkwargs\u001b[0m\u001b[0;34m)\u001b[0m\u001b[0;34m\u001b[0m\u001b[0;34m\u001b[0m\u001b[0m\n\u001b[0m\u001b[1;32m    396\u001b[0m \u001b[0;34m\u001b[0m\u001b[0m\n\u001b[1;32m    397\u001b[0m     \u001b[0;34m@\u001b[0m\u001b[0mclassmethod\u001b[0m\u001b[0;34m\u001b[0m\u001b[0;34m\u001b[0m\u001b[0m\n",
      "\u001b[0;32m~/.local/lib/python3.6/site-packages/cvxpy/problems/problem.py\u001b[0m in \u001b[0;36m_solve\u001b[0;34m(self, solver, warm_start, verbose, gp, qcp, requires_grad, enforce_dpp, **kwargs)\u001b[0m\n\u001b[1;32m    700\u001b[0m             \u001b[0mwhy\u001b[0m \u001b[0mthe\u001b[0m \u001b[0mproblem\u001b[0m \u001b[0mcould\u001b[0m \u001b[0;32mnot\u001b[0m \u001b[0mbe\u001b[0m \u001b[0msolved\u001b[0m\u001b[0;34m.\u001b[0m\u001b[0;34m\u001b[0m\u001b[0;34m\u001b[0m\u001b[0m\n\u001b[1;32m    701\u001b[0m         \"\"\"\n\u001b[0;32m--> 702\u001b[0;31m         \u001b[0;32mfor\u001b[0m \u001b[0mparameter\u001b[0m \u001b[0;32min\u001b[0m \u001b[0mself\u001b[0m\u001b[0;34m.\u001b[0m\u001b[0mparameters\u001b[0m\u001b[0;34m(\u001b[0m\u001b[0;34m)\u001b[0m\u001b[0;34m:\u001b[0m\u001b[0;34m\u001b[0m\u001b[0;34m\u001b[0m\u001b[0m\n\u001b[0m\u001b[1;32m    703\u001b[0m             \u001b[0;32mif\u001b[0m \u001b[0mparameter\u001b[0m\u001b[0;34m.\u001b[0m\u001b[0mvalue\u001b[0m \u001b[0;32mis\u001b[0m \u001b[0;32mNone\u001b[0m\u001b[0;34m:\u001b[0m\u001b[0;34m\u001b[0m\u001b[0;34m\u001b[0m\u001b[0m\n\u001b[1;32m    704\u001b[0m                 raise error.ParameterError(\n",
      "\u001b[0;32m~/.local/lib/python3.6/site-packages/cvxpy/utilities/performance_utils.py\u001b[0m in \u001b[0;36m_compute_once\u001b[0;34m(self, *args, **kwargs)\u001b[0m\n\u001b[1;32m     68\u001b[0m             \u001b[0;32mreturn\u001b[0m \u001b[0mcache\u001b[0m\u001b[0;34m[\u001b[0m\u001b[0mkey\u001b[0m\u001b[0;34m]\u001b[0m\u001b[0;34m\u001b[0m\u001b[0;34m\u001b[0m\u001b[0m\n\u001b[1;32m     69\u001b[0m         \u001b[0;32melse\u001b[0m\u001b[0;34m:\u001b[0m\u001b[0;34m\u001b[0m\u001b[0;34m\u001b[0m\u001b[0m\n\u001b[0;32m---> 70\u001b[0;31m             \u001b[0mresult\u001b[0m \u001b[0;34m=\u001b[0m \u001b[0mfunc\u001b[0m\u001b[0;34m(\u001b[0m\u001b[0mself\u001b[0m\u001b[0;34m,\u001b[0m \u001b[0;34m*\u001b[0m\u001b[0margs\u001b[0m\u001b[0;34m,\u001b[0m \u001b[0;34m**\u001b[0m\u001b[0mkwargs\u001b[0m\u001b[0;34m)\u001b[0m\u001b[0;34m\u001b[0m\u001b[0;34m\u001b[0m\u001b[0m\n\u001b[0m\u001b[1;32m     71\u001b[0m             \u001b[0mcache\u001b[0m\u001b[0;34m[\u001b[0m\u001b[0mkey\u001b[0m\u001b[0;34m]\u001b[0m \u001b[0;34m=\u001b[0m \u001b[0mresult\u001b[0m\u001b[0;34m\u001b[0m\u001b[0;34m\u001b[0m\u001b[0m\n\u001b[1;32m     72\u001b[0m             \u001b[0;32mreturn\u001b[0m \u001b[0mresult\u001b[0m\u001b[0;34m\u001b[0m\u001b[0;34m\u001b[0m\u001b[0m\n",
      "\u001b[0;32m~/.local/lib/python3.6/site-packages/cvxpy/problems/problem.py\u001b[0m in \u001b[0;36mparameters\u001b[0;34m(self)\u001b[0m\n\u001b[1;32m    268\u001b[0m         \u001b[0mparams\u001b[0m \u001b[0;34m=\u001b[0m \u001b[0mself\u001b[0m\u001b[0;34m.\u001b[0m\u001b[0mobjective\u001b[0m\u001b[0;34m.\u001b[0m\u001b[0mparameters\u001b[0m\u001b[0;34m(\u001b[0m\u001b[0;34m)\u001b[0m\u001b[0;34m\u001b[0m\u001b[0;34m\u001b[0m\u001b[0m\n\u001b[1;32m    269\u001b[0m         \u001b[0;32mfor\u001b[0m \u001b[0mconstr\u001b[0m \u001b[0;32min\u001b[0m \u001b[0mself\u001b[0m\u001b[0;34m.\u001b[0m\u001b[0mconstraints\u001b[0m\u001b[0;34m:\u001b[0m\u001b[0;34m\u001b[0m\u001b[0;34m\u001b[0m\u001b[0m\n\u001b[0;32m--> 270\u001b[0;31m             \u001b[0mparams\u001b[0m \u001b[0;34m+=\u001b[0m \u001b[0mconstr\u001b[0m\u001b[0;34m.\u001b[0m\u001b[0mparameters\u001b[0m\u001b[0;34m(\u001b[0m\u001b[0;34m)\u001b[0m\u001b[0;34m\u001b[0m\u001b[0;34m\u001b[0m\u001b[0m\n\u001b[0m\u001b[1;32m    271\u001b[0m         \u001b[0;32mreturn\u001b[0m \u001b[0munique_list\u001b[0m\u001b[0;34m(\u001b[0m\u001b[0mparams\u001b[0m\u001b[0;34m)\u001b[0m\u001b[0;34m\u001b[0m\u001b[0;34m\u001b[0m\u001b[0m\n\u001b[1;32m    272\u001b[0m \u001b[0;34m\u001b[0m\u001b[0m\n",
      "\u001b[0;31mAttributeError\u001b[0m: 'numpy.ndarray' object has no attribute 'parameters'"
     ]
    }
   ],
   "source": [
    "# requirement\n",
    "import numpy as np\n",
    "import matplotlib.pyplot as plt\n",
    "import cvxpy as cv\n",
    "import itertools\n",
    "\n",
    "class Hinge_loss_function:\n",
    "    def __init__(self):\n",
    "        self.n = 200\n",
    "        self.lam = 0.01\n",
    "        self.x = 3 * (np.random.randn(self.n, 4) - 0.5)\n",
    "        self.y = (2 * self.x[:,0] - 1 * self.x[:,1] + 0.5 + 0.5 * np.random.randn(self.n, 1)) > 0 \n",
    "        self.y = 2 * self.y - 1\n",
    "        self.w = np.arange(-3, 3, 0.002)\n",
    "        self.Value = np.zeros(len(self.w))\n",
    "        self.hingelss = np.zeros(len(self.w))\n",
    "        \n",
    "    def calc_eval_fun(self):       \n",
    "        # 評価関数値の計算\n",
    "        for i in range(len(self.w)):\n",
    "                reg = self.lam * self.w[i]\n",
    "                ywx = self.y * self.w[i] * self.x[:, 0] + self.x[:, 1]\n",
    "                self.Value[i] = 1.0 / self.n * np.sum(np.maximum(np.zeros(len(self.y)), 1 - ywx)) + reg\n",
    "    \n",
    "    def ops(self, mu, q):\n",
    "        x_proj = np.zeros(mu.shape)\n",
    "        for i in range(len(mu)):\n",
    "            if mu[i] > q:\n",
    "                x_proj[i] = mu[i] - q\n",
    "            else:\n",
    "                if np.abs(mu[i]) < q:\n",
    "                    x_proj[i] = 0\n",
    "                else:\n",
    "                    x_proj[i] = mu[i] + q; \n",
    "                \n",
    "        return x_proj\n",
    "    \n",
    "    def main(self):\n",
    "        for i in range (len(self.w)):\n",
    "            reg         = lam * self.w[i]\n",
    "            ywx         = self.y * self.w[i] * self.x[:, 0] + self.x[:, 1]\n",
    "            self.hingelss[i] = 1.0 / self.n * np.sum(np.maximum(np.zeros(len(self.y)), 1 - ywx)) + reg\n",
    "            # cvx\n",
    "            # 重み係数\n",
    "            w_hinge = cv.Variable((1, 1))\n",
    "            # 評価関数値\n",
    "            J = 1.0 / self.n * np.sum(np.maximum(np.zeros(len(self.y)), 1 - ywx)) + reg\n",
    "            # 評価関数の最小値\n",
    "            objective = cv.Minimize(J)\n",
    "            # 不等式制約\n",
    "            constraints = [1 - ywx <= 0]\n",
    "            prob = cv.Problem(objective, constraints)\n",
    "            result = prob.solve()\n",
    "            \n",
    "            # 勾配\n",
    "            grad = 1\n",
    "            eta  = 0.5\n",
    "            xth  = xt - eta * grad\n",
    "            \n",
    "    def DrowGraph(self):\n",
    "        plt.plot(self.w, self.hingelss, label='hinge loss')\n",
    "        plt.legend()\n",
    "        plt.xlabel('w1hat')\n",
    "        plt.ylabel('loss')\n",
    "        \n",
    "hlf = Hinge_loss_function()\n",
    "hlf.calc_eval_fun()\n",
    "hlf.main()\n",
    "hlf.DrowGraph()"
   ]
  },
  {
   "cell_type": "code",
   "execution_count": null,
   "metadata": {},
   "outputs": [],
   "source": []
  }
 ],
 "metadata": {
  "kernelspec": {
   "display_name": "Python 3",
   "language": "python",
   "name": "python3"
  },
  "language_info": {
   "codemirror_mode": {
    "name": "ipython",
    "version": 3
   },
   "file_extension": ".py",
   "mimetype": "text/x-python",
   "name": "python",
   "nbconvert_exporter": "python",
   "pygments_lexer": "ipython3",
   "version": "3.6.9"
  }
 },
 "nbformat": 4,
 "nbformat_minor": 4
}
