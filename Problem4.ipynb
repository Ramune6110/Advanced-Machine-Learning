{
 "cells": [
  {
   "cell_type": "code",
   "execution_count": 3,
   "metadata": {},
   "outputs": [
    {
     "data": {
      "image/png": "[encoded data removed]",
      "text/plain": [
       "<Figure size 432x288 with 1 Axes>"
      ]
     },
     "metadata": {
      "needs_background": "light"
     },
     "output_type": "display_data"
    }
   ],
   "source": [
    "# requirement\n",
    "import numpy as np\n",
    "import matplotlib.pyplot as plt\n",
    "import cvxpy as cv\n",
    "import itertools\n",
    "\n",
    "class Hinge_loss_function:\n",
    "    def __init__(self):\n",
    "        self.n = 200\n",
    "        self.lam = 0.01\n",
    "        self.x = 3 * (np.random.randn(self.n, 4) - 0.5)\n",
    "        self.y = (2 * self.x[:,0] - 1 * self.x[:,1] + 0.5 + 0.5 * np.random.randn(self.n, 1)) > 0 \n",
    "        self.y = 2 * self.y - 1\n",
    "        self.w = np.arange(-3, 3, 0.002)\n",
    "        self.hingelss = np.zeros(len(self.w))\n",
    "    \n",
    "    def main(self):\n",
    "        for i in range (len(self.w)):\n",
    "            reg              = self.lam * self.w[i]\n",
    "            ywx              = self.y * self.w[i] * self.x[:, 0] + self.x[:, 1]\n",
    "            self.hingelss[i] = 1.0 / self.n * np.sum(np.maximum(np.zeros(len(self.y)), 1 - ywx)) + reg\n",
    "            \n",
    "    def DrowGraph(self):\n",
    "        plt.plot(self.w, self.hingelss, label='hinge loss')\n",
    "        plt.legend()\n",
    "        plt.xlabel('w')\n",
    "        plt.ylabel('loss')\n",
    "        \n",
    "hlf = Hinge_loss_function()\n",
    "hlf.main()\n",
    "hlf.DrowGraph()"
   ]
  },
  {
   "cell_type": "code",
   "execution_count": 4,
   "metadata": {},
   "outputs": [
    {
     "data": {
      "text/plain": [
       "'\\n損失関数がきちんと収束している事が確認出来た\\n'"
      ]
     },
     "execution_count": 4,
     "metadata": {},
     "output_type": "execute_result"
    }
   ],
   "source": [
    "'''\n",
    "損失関数がきちんと収束している事が確認出来た\n",
    "'''"
   ]
  },
  {
   "cell_type": "code",
   "execution_count": 5,
   "metadata": {},
   "outputs": [
    {
     "ename": "NameError",
     "evalue": "name 'lam' is not defined",
     "output_type": "error",
     "traceback": [
      "\u001b[0;31m---------------------------------------------------------------------------\u001b[0m",
      "\u001b[0;31mNameError\u001b[0m                                 Traceback (most recent call last)",
      "\u001b[0;32m<ipython-input-5-ffa356c7fdc9>\u001b[0m in \u001b[0;36m<module>\u001b[0;34m\u001b[0m\n\u001b[1;32m     66\u001b[0m \u001b[0mhlf\u001b[0m \u001b[0;34m=\u001b[0m \u001b[0mHinge_loss_function\u001b[0m\u001b[0;34m(\u001b[0m\u001b[0;34m)\u001b[0m\u001b[0;34m\u001b[0m\u001b[0;34m\u001b[0m\u001b[0m\n\u001b[1;32m     67\u001b[0m \u001b[0mhlf\u001b[0m\u001b[0;34m.\u001b[0m\u001b[0mcalc_eval_fun\u001b[0m\u001b[0;34m(\u001b[0m\u001b[0;34m)\u001b[0m\u001b[0;34m\u001b[0m\u001b[0;34m\u001b[0m\u001b[0m\n\u001b[0;32m---> 68\u001b[0;31m \u001b[0mhlf\u001b[0m\u001b[0;34m.\u001b[0m\u001b[0mmain\u001b[0m\u001b[0;34m(\u001b[0m\u001b[0;34m)\u001b[0m\u001b[0;34m\u001b[0m\u001b[0;34m\u001b[0m\u001b[0m\n\u001b[0m\u001b[1;32m     69\u001b[0m \u001b[0mhlf\u001b[0m\u001b[0;34m.\u001b[0m\u001b[0mDrowGraph\u001b[0m\u001b[0;34m(\u001b[0m\u001b[0;34m)\u001b[0m\u001b[0;34m\u001b[0m\u001b[0;34m\u001b[0m\u001b[0m\n",
      "\u001b[0;32m<ipython-input-5-ffa356c7fdc9>\u001b[0m in \u001b[0;36mmain\u001b[0;34m(self)\u001b[0m\n\u001b[1;32m     38\u001b[0m     \u001b[0;32mdef\u001b[0m \u001b[0mmain\u001b[0m\u001b[0;34m(\u001b[0m\u001b[0mself\u001b[0m\u001b[0;34m)\u001b[0m\u001b[0;34m:\u001b[0m\u001b[0;34m\u001b[0m\u001b[0;34m\u001b[0m\u001b[0m\n\u001b[1;32m     39\u001b[0m         \u001b[0;32mfor\u001b[0m \u001b[0mi\u001b[0m \u001b[0;32min\u001b[0m \u001b[0mrange\u001b[0m \u001b[0;34m(\u001b[0m\u001b[0mlen\u001b[0m\u001b[0;34m(\u001b[0m\u001b[0mself\u001b[0m\u001b[0;34m.\u001b[0m\u001b[0mw\u001b[0m\u001b[0;34m)\u001b[0m\u001b[0;34m)\u001b[0m\u001b[0;34m:\u001b[0m\u001b[0;34m\u001b[0m\u001b[0;34m\u001b[0m\u001b[0m\n\u001b[0;32m---> 40\u001b[0;31m             \u001b[0mreg\u001b[0m         \u001b[0;34m=\u001b[0m \u001b[0mlam\u001b[0m \u001b[0;34m*\u001b[0m \u001b[0mself\u001b[0m\u001b[0;34m.\u001b[0m\u001b[0mw\u001b[0m\u001b[0;34m[\u001b[0m\u001b[0mi\u001b[0m\u001b[0;34m]\u001b[0m\u001b[0;34m\u001b[0m\u001b[0;34m\u001b[0m\u001b[0m\n\u001b[0m\u001b[1;32m     41\u001b[0m             \u001b[0mywx\u001b[0m         \u001b[0;34m=\u001b[0m \u001b[0mself\u001b[0m\u001b[0;34m.\u001b[0m\u001b[0my\u001b[0m \u001b[0;34m*\u001b[0m \u001b[0mself\u001b[0m\u001b[0;34m.\u001b[0m\u001b[0mw\u001b[0m\u001b[0;34m[\u001b[0m\u001b[0mi\u001b[0m\u001b[0;34m]\u001b[0m \u001b[0;34m*\u001b[0m \u001b[0mself\u001b[0m\u001b[0;34m.\u001b[0m\u001b[0mx\u001b[0m\u001b[0;34m[\u001b[0m\u001b[0;34m:\u001b[0m\u001b[0;34m,\u001b[0m \u001b[0;36m0\u001b[0m\u001b[0;34m]\u001b[0m \u001b[0;34m+\u001b[0m \u001b[0mself\u001b[0m\u001b[0;34m.\u001b[0m\u001b[0mx\u001b[0m\u001b[0;34m[\u001b[0m\u001b[0;34m:\u001b[0m\u001b[0;34m,\u001b[0m \u001b[0;36m1\u001b[0m\u001b[0;34m]\u001b[0m\u001b[0;34m\u001b[0m\u001b[0;34m\u001b[0m\u001b[0m\n\u001b[1;32m     42\u001b[0m             \u001b[0mself\u001b[0m\u001b[0;34m.\u001b[0m\u001b[0mhingelss\u001b[0m\u001b[0;34m[\u001b[0m\u001b[0mi\u001b[0m\u001b[0;34m]\u001b[0m \u001b[0;34m=\u001b[0m \u001b[0;36m1.0\u001b[0m \u001b[0;34m/\u001b[0m \u001b[0mself\u001b[0m\u001b[0;34m.\u001b[0m\u001b[0mn\u001b[0m \u001b[0;34m*\u001b[0m \u001b[0mnp\u001b[0m\u001b[0;34m.\u001b[0m\u001b[0msum\u001b[0m\u001b[0;34m(\u001b[0m\u001b[0mnp\u001b[0m\u001b[0;34m.\u001b[0m\u001b[0mmaximum\u001b[0m\u001b[0;34m(\u001b[0m\u001b[0mnp\u001b[0m\u001b[0;34m.\u001b[0m\u001b[0mzeros\u001b[0m\u001b[0;34m(\u001b[0m\u001b[0mlen\u001b[0m\u001b[0;34m(\u001b[0m\u001b[0mself\u001b[0m\u001b[0;34m.\u001b[0m\u001b[0my\u001b[0m\u001b[0;34m)\u001b[0m\u001b[0;34m)\u001b[0m\u001b[0;34m,\u001b[0m \u001b[0;36m1\u001b[0m \u001b[0;34m-\u001b[0m \u001b[0mywx\u001b[0m\u001b[0;34m)\u001b[0m\u001b[0;34m)\u001b[0m \u001b[0;34m+\u001b[0m \u001b[0mreg\u001b[0m\u001b[0;34m\u001b[0m\u001b[0;34m\u001b[0m\u001b[0m\n",
      "\u001b[0;31mNameError\u001b[0m: name 'lam' is not defined"
     ]
    }
   ],
   "source": [
    "# requirement\n",
    "import numpy as np\n",
    "import matplotlib.pyplot as plt\n",
    "import cvxpy as cv\n",
    "import itertools\n",
    "\n",
    "class Hinge_loss_function:\n",
    "    def __init__(self):\n",
    "        self.n = 200\n",
    "        self.lam = 0.01\n",
    "        self.x = 3 * (np.random.randn(self.n, 4) - 0.5)\n",
    "        self.y = (2 * self.x[:,0] - 1 * self.x[:,1] + 0.5 + 0.5 * np.random.randn(self.n, 1)) > 0 \n",
    "        self.y = 2 * self.y - 1\n",
    "        self.w = np.arange(-3, 3, 0.002)\n",
    "        self.Value = np.zeros(len(self.w))\n",
    "        self.hingelss = np.zeros(len(self.w))\n",
    "        \n",
    "    def calc_eval_fun(self):       \n",
    "        # 評価関数値の計算\n",
    "        for i in range(len(self.w)):\n",
    "                reg = self.lam * self.w[i]\n",
    "                ywx = self.y * self.w[i] * self.x[:, 0] + self.x[:, 1]\n",
    "                self.Value[i] = 1.0 / self.n * np.sum(np.maximum(np.zeros(len(self.y)), 1 - ywx)) + reg\n",
    "    \n",
    "    def ops(self, mu, q):\n",
    "        x_proj = np.zeros(mu.shape)\n",
    "        for i in range(len(mu)):\n",
    "            if mu[i] > q:\n",
    "                x_proj[i] = mu[i] - q\n",
    "            else:\n",
    "                if np.abs(mu[i]) < q:\n",
    "                    x_proj[i] = 0\n",
    "                else:\n",
    "                    x_proj[i] = mu[i] + q; \n",
    "                \n",
    "        return x_proj\n",
    "    \n",
    "    def main(self):\n",
    "        for i in range (len(self.w)):\n",
    "            reg         = lam * self.w[i]\n",
    "            ywx         = self.y * self.w[i] * self.x[:, 0] + self.x[:, 1]\n",
    "            self.hingelss[i] = 1.0 / self.n * np.sum(np.maximum(np.zeros(len(self.y)), 1 - ywx)) + reg\n",
    "            # cvx\n",
    "            # 重み係数\n",
    "            w_hinge = cv.Variable((1, 1))\n",
    "            # 評価関数値\n",
    "            J = 1.0 / self.n * np.sum(np.maximum(np.zeros(len(self.y)), 1 - ywx)) + reg\n",
    "            # 評価関数の最小値\n",
    "            objective = cv.Minimize(J)\n",
    "            # 不等式制約\n",
    "            constraints = [1 - ywx <= 0]\n",
    "            prob = cv.Problem(objective, constraints)\n",
    "            result = prob.solve()\n",
    "            \n",
    "            # 勾配\n",
    "            grad = 1\n",
    "            eta  = 0.5\n",
    "            xth  = xt - eta * grad\n",
    "            \n",
    "    def DrowGraph(self):\n",
    "        plt.plot(self.w, self.hingelss, label='hinge loss')\n",
    "        plt.legend()\n",
    "        plt.xlabel('w1hat')\n",
    "        plt.ylabel('loss')\n",
    "        \n",
    "hlf = Hinge_loss_function()\n",
    "hlf.calc_eval_fun()\n",
    "hlf.main()\n",
    "hlf.DrowGraph()"
   ]
  },
  {
   "cell_type": "code",
   "execution_count": null,
   "metadata": {},
   "outputs": [],
   "source": []
  }
 ],
 "metadata": {
  "kernelspec": {
   "display_name": "Python 3",
   "language": "python",
   "name": "python3"
  },
  "language_info": {
   "codemirror_mode": {
    "name": "ipython",
    "version": 3
   },
   "file_extension": ".py",
   "mimetype": "text/x-python",
   "name": "python",
   "nbconvert_exporter": "python",
   "pygments_lexer": "ipython3",
   "version": "3.6.9"
  }
 },
 "nbformat": 4,
 "nbformat_minor": 4
}
